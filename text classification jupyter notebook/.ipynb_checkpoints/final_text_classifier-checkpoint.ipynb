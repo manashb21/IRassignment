{
 "cells": [
  {
   "cell_type": "code",
   "execution_count": 71,
   "id": "second-memphis",
   "metadata": {
    "ExecuteTime": {
     "end_time": "2021-08-01T01:59:41.760225Z",
     "start_time": "2021-08-01T01:59:41.515144Z"
    }
   },
   "outputs": [],
   "source": [
    "import os\n",
    "import string\n",
    "\n",
    "# Data Handling and Processing\n",
    "import pandas as pd\n",
    "import numpy as np\n",
    "import re\n",
    "from scipy import interp\n",
    "\n",
    "\n",
    "# Visualuzation\n",
    "import matplotlib.pyplot as plt\n",
    "%matplotlib inline\n",
    "#to render high res images\n",
    "%config InlineBackend.figure_format='retina'\n",
    "\n",
    "# NLP Packages\n",
    "from nltk.tokenize import word_tokenize\n",
    "from nltk.corpus import stopwords, wordnet\n",
    "from nltk.stem import WordNetLemmatizer\n",
    "from nltk import pos_tag\n",
    "import nltk\n",
    "from joblib import dump, load\n",
    "\n",
    "\n",
    "# ML Models\n",
    "from sklearn.ensemble import RandomForestClassifier\n",
    "from sklearn.svm import SVC\n",
    "from lightgbm import LGBMClassifier\n",
    "\n",
    "# Scikit Learn packages\n",
    "from sklearn.base import clone\n",
    "from sklearn.preprocessing import label_binarize, LabelEncoder\n",
    "from sklearn.feature_extraction.text import TfidfVectorizer, CountVectorizer\n",
    "from sklearn.model_selection import KFold, cross_validate, cross_val_score, train_test_split\n",
    "from sklearn.pipeline import Pipeline\n",
    "from sklearn import metrics\n",
    "from sklearn.metrics import roc_curve, auc\n"
   ]
  },
  {
   "cell_type": "markdown",
   "id": "indonesian-postage",
   "metadata": {},
   "source": [
    "# Load Datasets"
   ]
  },
  {
   "cell_type": "code",
   "execution_count": 72,
   "id": "flush-consolidation",
   "metadata": {
    "ExecuteTime": {
     "end_time": "2021-08-01T01:45:56.821008Z",
     "start_time": "2021-08-01T01:45:56.763186Z"
    }
   },
   "outputs": [
    {
     "name": "stdout",
     "output_type": "stream",
     "text": [
      "(2225, 2)\n"
     ]
    }
   ],
   "source": [
    "df = pd.read_csv('bbc-text.csv')\n",
    "print(df.shape)\n"
   ]
  },
  {
   "cell_type": "code",
   "execution_count": 73,
   "id": "253b2811",
   "metadata": {},
   "outputs": [
    {
     "data": {
      "text/html": [
       "<div>\n",
       "<style scoped>\n",
       "    .dataframe tbody tr th:only-of-type {\n",
       "        vertical-align: middle;\n",
       "    }\n",
       "\n",
       "    .dataframe tbody tr th {\n",
       "        vertical-align: top;\n",
       "    }\n",
       "\n",
       "    .dataframe thead th {\n",
       "        text-align: right;\n",
       "    }\n",
       "</style>\n",
       "<table border=\"1\" class=\"dataframe\">\n",
       "  <thead>\n",
       "    <tr style=\"text-align: right;\">\n",
       "      <th></th>\n",
       "      <th>category</th>\n",
       "      <th>text</th>\n",
       "    </tr>\n",
       "  </thead>\n",
       "  <tbody>\n",
       "    <tr>\n",
       "      <th>0</th>\n",
       "      <td>tech</td>\n",
       "      <td>tv future in the hands of viewers with home th...</td>\n",
       "    </tr>\n",
       "    <tr>\n",
       "      <th>1</th>\n",
       "      <td>business</td>\n",
       "      <td>worldcom boss  left books alone  former worldc...</td>\n",
       "    </tr>\n",
       "    <tr>\n",
       "      <th>2</th>\n",
       "      <td>entertainment</td>\n",
       "      <td>ocean s twelve raids box office ocean s twelve...</td>\n",
       "    </tr>\n",
       "    <tr>\n",
       "      <th>3</th>\n",
       "      <td>entertainment</td>\n",
       "      <td>last star wars  not for children  the sixth an...</td>\n",
       "    </tr>\n",
       "    <tr>\n",
       "      <th>4</th>\n",
       "      <td>entertainment</td>\n",
       "      <td>berlin cheers for anti-nazi film a german movi...</td>\n",
       "    </tr>\n",
       "    <tr>\n",
       "      <th>...</th>\n",
       "      <td>...</td>\n",
       "      <td>...</td>\n",
       "    </tr>\n",
       "    <tr>\n",
       "      <th>1292</th>\n",
       "      <td>entertainment</td>\n",
       "      <td>top stars join us tsunami tv show brad pitt  r...</td>\n",
       "    </tr>\n",
       "    <tr>\n",
       "      <th>1293</th>\n",
       "      <td>tech</td>\n",
       "      <td>rings of steel combat net attacks gambling is ...</td>\n",
       "    </tr>\n",
       "    <tr>\n",
       "      <th>1294</th>\n",
       "      <td>business</td>\n",
       "      <td>beijingers fume over parking fees choking traf...</td>\n",
       "    </tr>\n",
       "    <tr>\n",
       "      <th>1295</th>\n",
       "      <td>business</td>\n",
       "      <td>cars pull down us retail figures us retail sal...</td>\n",
       "    </tr>\n",
       "    <tr>\n",
       "      <th>1296</th>\n",
       "      <td>entertainment</td>\n",
       "      <td>rem announce new glasgow concert us band rem h...</td>\n",
       "    </tr>\n",
       "  </tbody>\n",
       "</table>\n",
       "<p>1297 rows × 2 columns</p>\n",
       "</div>"
      ],
      "text/plain": [
       "           category                                               text\n",
       "0              tech  tv future in the hands of viewers with home th...\n",
       "1          business  worldcom boss  left books alone  former worldc...\n",
       "2     entertainment  ocean s twelve raids box office ocean s twelve...\n",
       "3     entertainment  last star wars  not for children  the sixth an...\n",
       "4     entertainment  berlin cheers for anti-nazi film a german movi...\n",
       "...             ...                                                ...\n",
       "1292  entertainment  top stars join us tsunami tv show brad pitt  r...\n",
       "1293           tech  rings of steel combat net attacks gambling is ...\n",
       "1294       business  beijingers fume over parking fees choking traf...\n",
       "1295       business  cars pull down us retail figures us retail sal...\n",
       "1296  entertainment  rem announce new glasgow concert us band rem h...\n",
       "\n",
       "[1297 rows x 2 columns]"
      ]
     },
     "execution_count": 73,
     "metadata": {},
     "output_type": "execute_result"
    }
   ],
   "source": [
    "df = df[~df['category'].isin(['sport', 'politics'])].reset_index(drop=True)\n",
    "df"
   ]
  },
  {
   "cell_type": "code",
   "execution_count": 74,
   "id": "0c0fe32e",
   "metadata": {},
   "outputs": [
    {
     "data": {
      "text/html": [
       "<div>\n",
       "<style scoped>\n",
       "    .dataframe tbody tr th:only-of-type {\n",
       "        vertical-align: middle;\n",
       "    }\n",
       "\n",
       "    .dataframe tbody tr th {\n",
       "        vertical-align: top;\n",
       "    }\n",
       "\n",
       "    .dataframe thead th {\n",
       "        text-align: right;\n",
       "    }\n",
       "</style>\n",
       "<table border=\"1\" class=\"dataframe\">\n",
       "  <thead>\n",
       "    <tr style=\"text-align: right;\">\n",
       "      <th></th>\n",
       "      <th>category</th>\n",
       "      <th>text</th>\n",
       "    </tr>\n",
       "  </thead>\n",
       "  <tbody>\n",
       "    <tr>\n",
       "      <th>0</th>\n",
       "      <td>engineering</td>\n",
       "      <td>tv future in the hands of viewers with home th...</td>\n",
       "    </tr>\n",
       "    <tr>\n",
       "      <th>1</th>\n",
       "      <td>business</td>\n",
       "      <td>worldcom boss  left books alone  former worldc...</td>\n",
       "    </tr>\n",
       "    <tr>\n",
       "      <th>2</th>\n",
       "      <td>arts</td>\n",
       "      <td>ocean s twelve raids box office ocean s twelve...</td>\n",
       "    </tr>\n",
       "    <tr>\n",
       "      <th>3</th>\n",
       "      <td>arts</td>\n",
       "      <td>last star wars  not for children  the sixth an...</td>\n",
       "    </tr>\n",
       "    <tr>\n",
       "      <th>4</th>\n",
       "      <td>arts</td>\n",
       "      <td>berlin cheers for anti-nazi film a german movi...</td>\n",
       "    </tr>\n",
       "    <tr>\n",
       "      <th>5</th>\n",
       "      <td>business</td>\n",
       "      <td>virgin blue shares plummet 20% shares in austr...</td>\n",
       "    </tr>\n",
       "    <tr>\n",
       "      <th>6</th>\n",
       "      <td>business</td>\n",
       "      <td>crude oil prices back above $50 cold weather a...</td>\n",
       "    </tr>\n",
       "    <tr>\n",
       "      <th>7</th>\n",
       "      <td>business</td>\n",
       "      <td>s korean credit card firm rescued south korea ...</td>\n",
       "    </tr>\n",
       "    <tr>\n",
       "      <th>8</th>\n",
       "      <td>business</td>\n",
       "      <td>japanese banking battle at an end japan s sumi...</td>\n",
       "    </tr>\n",
       "    <tr>\n",
       "      <th>9</th>\n",
       "      <td>engineering</td>\n",
       "      <td>games maker fights for survival one of britain...</td>\n",
       "    </tr>\n",
       "    <tr>\n",
       "      <th>10</th>\n",
       "      <td>engineering</td>\n",
       "      <td>security warning over  fbi virus  the us feder...</td>\n",
       "    </tr>\n",
       "    <tr>\n",
       "      <th>11</th>\n",
       "      <td>engineering</td>\n",
       "      <td>halo 2 heralds traffic explosion the growing p...</td>\n",
       "    </tr>\n",
       "    <tr>\n",
       "      <th>12</th>\n",
       "      <td>engineering</td>\n",
       "      <td>mobile audio enters new dimension as mobile ph...</td>\n",
       "    </tr>\n",
       "    <tr>\n",
       "      <th>13</th>\n",
       "      <td>arts</td>\n",
       "      <td>career honour for actor dicaprio actor leonard...</td>\n",
       "    </tr>\n",
       "    <tr>\n",
       "      <th>14</th>\n",
       "      <td>engineering</td>\n",
       "      <td>mobile gig aims to rock 3g forget about going ...</td>\n",
       "    </tr>\n",
       "  </tbody>\n",
       "</table>\n",
       "</div>"
      ],
      "text/plain": [
       "       category                                               text\n",
       "0   engineering  tv future in the hands of viewers with home th...\n",
       "1      business  worldcom boss  left books alone  former worldc...\n",
       "2          arts  ocean s twelve raids box office ocean s twelve...\n",
       "3          arts  last star wars  not for children  the sixth an...\n",
       "4          arts  berlin cheers for anti-nazi film a german movi...\n",
       "5      business  virgin blue shares plummet 20% shares in austr...\n",
       "6      business  crude oil prices back above $50 cold weather a...\n",
       "7      business  s korean credit card firm rescued south korea ...\n",
       "8      business  japanese banking battle at an end japan s sumi...\n",
       "9   engineering  games maker fights for survival one of britain...\n",
       "10  engineering  security warning over  fbi virus  the us feder...\n",
       "11  engineering  halo 2 heralds traffic explosion the growing p...\n",
       "12  engineering  mobile audio enters new dimension as mobile ph...\n",
       "13         arts  career honour for actor dicaprio actor leonard...\n",
       "14  engineering  mobile gig aims to rock 3g forget about going ..."
      ]
     },
     "execution_count": 74,
     "metadata": {},
     "output_type": "execute_result"
    }
   ],
   "source": [
    "df['category'] = df['category'].replace('entertainment', 'arts')\n",
    "\n",
    "# Replace \"tech\" with \"engineering\"\n",
    "df['category'] = df['category'].replace('tech', 'engineering')\n",
    "df.head(15)"
   ]
  },
  {
   "cell_type": "markdown",
   "id": "nonprofit-syndication",
   "metadata": {},
   "source": [
    "## Exploring the Dataset"
   ]
  },
  {
   "cell_type": "code",
   "execution_count": 77,
   "id": "great-nightlife",
   "metadata": {
    "ExecuteTime": {
     "end_time": "2021-08-01T02:02:06.282040Z",
     "start_time": "2021-08-01T02:02:06.032043Z"
    }
   },
   "outputs": [
    {
     "data": {
      "image/png": "[encoded data removed]",
      "text/plain": [
       "<Figure size 640x480 with 1 Axes>"
      ]
     },
     "metadata": {
      "image/png": {
       "height": 518,
       "width": 552
      }
     },
     "output_type": "display_data"
    }
   ],
   "source": [
    "df['category'].value_counts().plot(kind='bar')\n",
    "plt.title('Number of News articles per Category', size=15, pad=15);"
   ]
  },
  {
   "cell_type": "markdown",
   "id": "naughty-samba",
   "metadata": {},
   "source": [
    "text processing step"
   ]
  },
  {
   "cell_type": "code",
   "execution_count": 78,
   "id": "major-springer",
   "metadata": {
    "ExecuteTime": {
     "end_time": "2021-08-01T02:05:41.825096Z",
     "start_time": "2021-08-01T02:05:41.787802Z"
    }
   },
   "outputs": [],
   "source": [
    "def text_preprocess(df):\n",
    "    # Remove special characters\n",
    "    df['p_text'] = df['text'].replace('\\n',' ')\n",
    "    df['p_text'] = df['p_text'].replace('\\r',' ')\n",
    "    \n",
    "    # Remove punctuation signs and lowercase all\n",
    "    df['p_text'] = df['text'].str.lower()\n",
    "    df['p_text'] = df['text'].str.translate(str.maketrans('', '', string.punctuation))\n",
    "    \n",
    "    \n",
    "    # Remove stop words\n",
    "    stop_words = stopwords.words(\"english\")\n",
    "    lemmatizer = WordNetLemmatizer()\n",
    "    \n",
    "    def fwpt(each):\n",
    "        tag = pos_tag([each])[0][1][0].upper()\n",
    "        hash_tag = {\"N\": wordnet.NOUN,\"R\": wordnet.ADV, \"V\": wordnet.VERB,\"J\": wordnet.ADJ}        \n",
    "        return hash_tag.get(tag, wordnet.NOUN)\n",
    "\n",
    "    \n",
    "    def lematize(text):\n",
    "        tokens = nltk.word_tokenize(text)\n",
    "        ax = \"\"\n",
    "        for each in tokens:\n",
    "            if each not in stop_words:\n",
    "                ax += lemmatizer.lemmatize(each, fwpt(each)) + \" \"\n",
    "        return ax\n",
    "    \n",
    "    df['p_text'] = df['p_text'].apply(lematize)"
   ]
  },
  {
   "cell_type": "code",
   "execution_count": 80,
   "id": "subtle-floating",
   "metadata": {
    "ExecuteTime": {
     "end_time": "2021-08-01T02:08:25.551690Z",
     "start_time": "2021-08-01T02:07:24.370175Z"
    }
   },
   "outputs": [],
   "source": [
    "text_preprocess(df)"
   ]
  },
  {
   "cell_type": "markdown",
   "id": "rolled-chancellor",
   "metadata": {},
   "source": [
    "train test split"
   ]
  },
  {
   "cell_type": "code",
   "execution_count": 81,
   "id": "miniature-crime",
   "metadata": {
    "ExecuteTime": {
     "end_time": "2021-08-01T02:19:53.776543Z",
     "start_time": "2021-08-01T02:19:53.695104Z"
    }
   },
   "outputs": [
    {
     "name": "stdout",
     "output_type": "stream",
     "text": [
      "(1037,) (260,) (1037,) (260,)\n"
     ]
    }
   ],
   "source": [
    "X_train, X_test, y_train, y_test = train_test_split(df['p_text'], \n",
    "                                                    df['category'], \n",
    "                                                    test_size=0.2, \n",
    "                                                    random_state=9)\n",
    "\n",
    "print(X_train.shape, X_test.shape, y_train.shape, y_test.shape)"
   ]
  },
  {
   "cell_type": "markdown",
   "id": "theoretical-payment",
   "metadata": {},
   "source": [
    "## Using tfidfvectorizer sklearn"
   ]
  },
  {
   "cell_type": "code",
   "execution_count": 82,
   "id": "present-company",
   "metadata": {
    "ExecuteTime": {
     "end_time": "2021-08-01T02:24:58.293184Z",
     "start_time": "2021-08-01T02:24:58.262149Z"
    }
   },
   "outputs": [],
   "source": [
    "vector = TfidfVectorizer(stop_words='english', \n",
    "                         ngram_range = (1,2),\n",
    "                         min_df = 3,\n",
    "                         max_df = 1.,\n",
    "                         max_features = 10000)"
   ]
  },
  {
   "cell_type": "code",
   "execution_count": 83,
   "id": "natural-louis",
   "metadata": {
    "ExecuteTime": {
     "end_time": "2021-08-01T02:30:47.223623Z",
     "start_time": "2021-08-01T02:30:47.193232Z"
    }
   },
   "outputs": [],
   "source": [
    "#creating fit model function\n",
    "\n",
    "def fit_model(model, model_name):\n",
    "    line = Pipeline([('vectorize', vector), (model_name, model)])\n",
    "    \n",
    "    output = cross_validate(line, \n",
    "                            X_train, \n",
    "                            y_train, \n",
    "                            cv = KFold(shuffle = True, \n",
    "                                       n_splits = 3,  \n",
    "                                       random_state = 9),\n",
    "                            scoring = ('accuracy', 'f1_weighted','precision_weighted','recall_weighted'),           \n",
    "                            return_train_score=True)\n",
    "    return output"
   ]
  },
  {
   "cell_type": "code",
   "execution_count": 84,
   "id": "reasonable-inspector",
   "metadata": {
    "ExecuteTime": {
     "end_time": "2021-08-01T02:31:41.443274Z",
     "start_time": "2021-08-01T02:31:29.795635Z"
    }
   },
   "outputs": [],
   "source": [
    "rf_clf = fit_model(RandomForestClassifier(), 'Randf')\n",
    "svm_clf = fit_model(SVC(), 'SVM')\n",
    "lgbm_clf = fit_model(LGBMClassifier(), 'LGBM')\n",
    "\n",
    "rf = pd.DataFrame.from_dict(rf_clf)\n",
    "sv = pd.DataFrame.from_dict(svm_clf)\n",
    "lg = pd.DataFrame.from_dict(lgbm_clf)"
   ]
  },
  {
   "cell_type": "code",
   "execution_count": 85,
   "id": "compressed-contractor",
   "metadata": {
    "ExecuteTime": {
     "end_time": "2021-08-01T02:32:19.672291Z",
     "start_time": "2021-08-01T02:32:19.642518Z"
    }
   },
   "outputs": [],
   "source": [
    "l1 = [rf, sv, lg]\n",
    "l2 =[\"Randf\", \"SVM\", \"LGBM\"]\n",
    "\n",
    "for each, tag in zip(l1, l2):\n",
    "    each['model'] = [tag, tag, tag]\n",
    "\n",
    "joined_output = pd.concat([rf, sv, lg])"
   ]
  },
  {
   "cell_type": "code",
   "execution_count": 86,
   "id": "automatic-device",
   "metadata": {
    "ExecuteTime": {
     "end_time": "2021-08-01T02:33:12.025271Z",
     "start_time": "2021-08-01T02:33:12.016908Z"
    }
   },
   "outputs": [
    {
     "data": {
      "text/plain": [
       "{'fit_time': array([2.07826185, 1.73299861, 1.87087631]),\n",
       " 'score_time': array([0.20681119, 0.2249999 , 0.17299819]),\n",
       " 'test_accuracy': array([0.97109827, 0.95375723, 0.97391304]),\n",
       " 'train_accuracy': array([1., 1., 1.]),\n",
       " 'test_f1_weighted': array([0.9711194 , 0.95374074, 0.97387473]),\n",
       " 'train_f1_weighted': array([1., 1., 1.]),\n",
       " 'test_precision_weighted': array([0.97194753, 0.95388294, 0.97472917]),\n",
       " 'train_precision_weighted': array([1., 1., 1.]),\n",
       " 'test_recall_weighted': array([0.97109827, 0.95375723, 0.97391304]),\n",
       " 'train_recall_weighted': array([1., 1., 1.])}"
      ]
     },
     "execution_count": 86,
     "metadata": {},
     "output_type": "execute_result"
    }
   ],
   "source": [
    "rf_clf"
   ]
  },
  {
   "cell_type": "code",
   "execution_count": 87,
   "id": "worth-marijuana",
   "metadata": {
    "ExecuteTime": {
     "end_time": "2021-08-01T02:33:21.177196Z",
     "start_time": "2021-08-01T02:33:21.168888Z"
    }
   },
   "outputs": [
    {
     "data": {
      "text/plain": [
       "{'fit_time': array([1.80300546, 1.58495378, 1.53505635]),\n",
       " 'score_time': array([0.63294387, 0.44199872, 0.47800064]),\n",
       " 'test_accuracy': array([0.97976879, 0.97687861, 0.9826087 ]),\n",
       " 'train_accuracy': array([1., 1., 1.]),\n",
       " 'test_f1_weighted': array([0.97972236, 0.9768829 , 0.98262483]),\n",
       " 'train_f1_weighted': array([1., 1., 1.]),\n",
       " 'test_precision_weighted': array([0.98004298, 0.97707112, 0.98307751]),\n",
       " 'train_precision_weighted': array([1., 1., 1.]),\n",
       " 'test_recall_weighted': array([0.97976879, 0.97687861, 0.9826087 ]),\n",
       " 'train_recall_weighted': array([1., 1., 1.])}"
      ]
     },
     "execution_count": 87,
     "metadata": {},
     "output_type": "execute_result"
    }
   ],
   "source": [
    "svm_clf"
   ]
  },
  {
   "cell_type": "code",
   "execution_count": 88,
   "id": "71a02684",
   "metadata": {},
   "outputs": [
    {
     "data": {
      "text/plain": [
       "{'fit_time': array([2.11006737, 2.39854264, 2.48707151]),\n",
       " 'score_time': array([0.21600103, 0.26000118, 0.25300169]),\n",
       " 'test_accuracy': array([0.95953757, 0.94797688, 0.96811594]),\n",
       " 'train_accuracy': array([1., 1., 1.]),\n",
       " 'test_f1_weighted': array([0.95952149, 0.94812999, 0.9681848 ]),\n",
       " 'train_f1_weighted': array([1., 1., 1.]),\n",
       " 'test_precision_weighted': array([0.96009208, 0.94851315, 0.96911688]),\n",
       " 'train_precision_weighted': array([1., 1., 1.]),\n",
       " 'test_recall_weighted': array([0.95953757, 0.94797688, 0.96811594]),\n",
       " 'train_recall_weighted': array([1., 1., 1.])}"
      ]
     },
     "execution_count": 88,
     "metadata": {},
     "output_type": "execute_result"
    }
   ],
   "source": [
    "lgbm_clf"
   ]
  },
  {
   "cell_type": "code",
   "execution_count": 89,
   "id": "elect-trail",
   "metadata": {
    "ExecuteTime": {
     "end_time": "2021-08-01T02:34:09.787789Z",
     "start_time": "2021-08-01T02:34:09.744308Z"
    }
   },
   "outputs": [],
   "source": [
    "relevant_measures = list(['test_accuracy','test_precision_weighted', 'test_recall_weighted', 'test_f1_weighted'])\n",
    "\n",
    "random_forest_metrics = joined_output.loc[joined_output.model == 'Randf'][relevant_measures]\n",
    "svm_metrics = joined_output.loc[joined_output.model == 'SVM'][relevant_measures]\n",
    "lgbm_metrics = joined_output.loc[joined_output.model == 'LGBM'][relevant_measures]"
   ]
  },
  {
   "cell_type": "markdown",
   "id": "entitled-pharmacy",
   "metadata": {},
   "source": [
    "#### Random Forest metrics"
   ]
  },
  {
   "cell_type": "code",
   "execution_count": 90,
   "id": "proud-movement",
   "metadata": {
    "ExecuteTime": {
     "end_time": "2021-08-01T02:34:45.966238Z",
     "start_time": "2021-08-01T02:34:45.956440Z"
    }
   },
   "outputs": [
    {
     "data": {
      "text/html": [
       "<div>\n",
       "<style scoped>\n",
       "    .dataframe tbody tr th:only-of-type {\n",
       "        vertical-align: middle;\n",
       "    }\n",
       "\n",
       "    .dataframe tbody tr th {\n",
       "        vertical-align: top;\n",
       "    }\n",
       "\n",
       "    .dataframe thead th {\n",
       "        text-align: right;\n",
       "    }\n",
       "</style>\n",
       "<table border=\"1\" class=\"dataframe\">\n",
       "  <thead>\n",
       "    <tr style=\"text-align: right;\">\n",
       "      <th></th>\n",
       "      <th>test_accuracy</th>\n",
       "      <th>test_precision_weighted</th>\n",
       "      <th>test_recall_weighted</th>\n",
       "      <th>test_f1_weighted</th>\n",
       "    </tr>\n",
       "  </thead>\n",
       "  <tbody>\n",
       "    <tr>\n",
       "      <th>0</th>\n",
       "      <td>0.971098</td>\n",
       "      <td>0.971948</td>\n",
       "      <td>0.971098</td>\n",
       "      <td>0.971119</td>\n",
       "    </tr>\n",
       "    <tr>\n",
       "      <th>1</th>\n",
       "      <td>0.953757</td>\n",
       "      <td>0.953883</td>\n",
       "      <td>0.953757</td>\n",
       "      <td>0.953741</td>\n",
       "    </tr>\n",
       "    <tr>\n",
       "      <th>2</th>\n",
       "      <td>0.973913</td>\n",
       "      <td>0.974729</td>\n",
       "      <td>0.973913</td>\n",
       "      <td>0.973875</td>\n",
       "    </tr>\n",
       "  </tbody>\n",
       "</table>\n",
       "</div>"
      ],
      "text/plain": [
       "   test_accuracy  test_precision_weighted  test_recall_weighted  \\\n",
       "0       0.971098                 0.971948              0.971098   \n",
       "1       0.953757                 0.953883              0.953757   \n",
       "2       0.973913                 0.974729              0.973913   \n",
       "\n",
       "   test_f1_weighted  \n",
       "0          0.971119  \n",
       "1          0.953741  \n",
       "2          0.973875  "
      ]
     },
     "execution_count": 90,
     "metadata": {},
     "output_type": "execute_result"
    }
   ],
   "source": [
    "random_forest_metrics"
   ]
  },
  {
   "cell_type": "markdown",
   "id": "quality-aspect",
   "metadata": {},
   "source": [
    "#### SVM Metrics"
   ]
  },
  {
   "cell_type": "code",
   "execution_count": 91,
   "id": "lucky-chance",
   "metadata": {
    "ExecuteTime": {
     "end_time": "2021-08-01T02:35:22.423739Z",
     "start_time": "2021-08-01T02:35:22.412406Z"
    }
   },
   "outputs": [
    {
     "data": {
      "text/html": [
       "<div>\n",
       "<style scoped>\n",
       "    .dataframe tbody tr th:only-of-type {\n",
       "        vertical-align: middle;\n",
       "    }\n",
       "\n",
       "    .dataframe tbody tr th {\n",
       "        vertical-align: top;\n",
       "    }\n",
       "\n",
       "    .dataframe thead th {\n",
       "        text-align: right;\n",
       "    }\n",
       "</style>\n",
       "<table border=\"1\" class=\"dataframe\">\n",
       "  <thead>\n",
       "    <tr style=\"text-align: right;\">\n",
       "      <th></th>\n",
       "      <th>test_accuracy</th>\n",
       "      <th>test_precision_weighted</th>\n",
       "      <th>test_recall_weighted</th>\n",
       "      <th>test_f1_weighted</th>\n",
       "    </tr>\n",
       "  </thead>\n",
       "  <tbody>\n",
       "    <tr>\n",
       "      <th>0</th>\n",
       "      <td>0.979769</td>\n",
       "      <td>0.980043</td>\n",
       "      <td>0.979769</td>\n",
       "      <td>0.979722</td>\n",
       "    </tr>\n",
       "    <tr>\n",
       "      <th>1</th>\n",
       "      <td>0.976879</td>\n",
       "      <td>0.977071</td>\n",
       "      <td>0.976879</td>\n",
       "      <td>0.976883</td>\n",
       "    </tr>\n",
       "    <tr>\n",
       "      <th>2</th>\n",
       "      <td>0.982609</td>\n",
       "      <td>0.983078</td>\n",
       "      <td>0.982609</td>\n",
       "      <td>0.982625</td>\n",
       "    </tr>\n",
       "  </tbody>\n",
       "</table>\n",
       "</div>"
      ],
      "text/plain": [
       "   test_accuracy  test_precision_weighted  test_recall_weighted  \\\n",
       "0       0.979769                 0.980043              0.979769   \n",
       "1       0.976879                 0.977071              0.976879   \n",
       "2       0.982609                 0.983078              0.982609   \n",
       "\n",
       "   test_f1_weighted  \n",
       "0          0.979722  \n",
       "1          0.976883  \n",
       "2          0.982625  "
      ]
     },
     "execution_count": 91,
     "metadata": {},
     "output_type": "execute_result"
    }
   ],
   "source": [
    "svm_metrics"
   ]
  },
  {
   "cell_type": "markdown",
   "id": "9962ef60",
   "metadata": {},
   "source": [
    "#### LGBM Metrics"
   ]
  },
  {
   "cell_type": "code",
   "execution_count": 92,
   "id": "a59f4ac0",
   "metadata": {},
   "outputs": [
    {
     "data": {
      "text/html": [
       "<div>\n",
       "<style scoped>\n",
       "    .dataframe tbody tr th:only-of-type {\n",
       "        vertical-align: middle;\n",
       "    }\n",
       "\n",
       "    .dataframe tbody tr th {\n",
       "        vertical-align: top;\n",
       "    }\n",
       "\n",
       "    .dataframe thead th {\n",
       "        text-align: right;\n",
       "    }\n",
       "</style>\n",
       "<table border=\"1\" class=\"dataframe\">\n",
       "  <thead>\n",
       "    <tr style=\"text-align: right;\">\n",
       "      <th></th>\n",
       "      <th>test_accuracy</th>\n",
       "      <th>test_precision_weighted</th>\n",
       "      <th>test_recall_weighted</th>\n",
       "      <th>test_f1_weighted</th>\n",
       "    </tr>\n",
       "  </thead>\n",
       "  <tbody>\n",
       "    <tr>\n",
       "      <th>0</th>\n",
       "      <td>0.959538</td>\n",
       "      <td>0.960092</td>\n",
       "      <td>0.959538</td>\n",
       "      <td>0.959521</td>\n",
       "    </tr>\n",
       "    <tr>\n",
       "      <th>1</th>\n",
       "      <td>0.947977</td>\n",
       "      <td>0.948513</td>\n",
       "      <td>0.947977</td>\n",
       "      <td>0.948130</td>\n",
       "    </tr>\n",
       "    <tr>\n",
       "      <th>2</th>\n",
       "      <td>0.968116</td>\n",
       "      <td>0.969117</td>\n",
       "      <td>0.968116</td>\n",
       "      <td>0.968185</td>\n",
       "    </tr>\n",
       "  </tbody>\n",
       "</table>\n",
       "</div>"
      ],
      "text/plain": [
       "   test_accuracy  test_precision_weighted  test_recall_weighted  \\\n",
       "0       0.959538                 0.960092              0.959538   \n",
       "1       0.947977                 0.948513              0.947977   \n",
       "2       0.968116                 0.969117              0.968116   \n",
       "\n",
       "   test_f1_weighted  \n",
       "0          0.959521  \n",
       "1          0.948130  \n",
       "2          0.968185  "
      ]
     },
     "execution_count": 92,
     "metadata": {},
     "output_type": "execute_result"
    }
   ],
   "source": [
    "lgbm_metrics"
   ]
  },
  {
   "cell_type": "markdown",
   "id": "greenhouse-minutes",
   "metadata": {},
   "source": [
    "#### Average metrics"
   ]
  },
  {
   "cell_type": "code",
   "execution_count": 93,
   "id": "stainless-composite",
   "metadata": {
    "ExecuteTime": {
     "end_time": "2021-08-01T02:39:58.060999Z",
     "start_time": "2021-08-01T02:39:58.049490Z"
    }
   },
   "outputs": [
    {
     "name": "stdout",
     "output_type": "stream",
     "text": [
      "Random Forest Mean Metrics:\n",
      "test_accuracy              0.966256\n",
      "test_precision_weighted    0.966853\n",
      "test_recall_weighted       0.966256\n",
      "test_f1_weighted           0.966245\n",
      "dtype: float64\n",
      "  \n",
      "SVM Mean Metrics:\n",
      "test_accuracy              0.979752\n",
      "test_precision_weighted    0.980064\n",
      "test_recall_weighted       0.979752\n",
      "test_f1_weighted           0.979743\n",
      "dtype: float64\n",
      "  \n",
      "LightGBM Mean Metrics:\n",
      "test_accuracy              0.958543\n",
      "test_precision_weighted    0.959241\n",
      "test_recall_weighted       0.958543\n",
      "test_f1_weighted           0.958612\n",
      "dtype: float64\n",
      "  \n"
     ]
    }
   ],
   "source": [
    "metrics_ = [random_forest_metrics, svm_metrics, lgbm_metrics]\n",
    "names_ = ['Random Forest', 'SVM', 'LightGBM']\n",
    "\n",
    "for scores, namess in zip(metrics_, names_):\n",
    "    print(f'{namess} Mean Metrics:')\n",
    "    print(scores.mean())\n",
    "    print('  ')"
   ]
  },
  {
   "cell_type": "markdown",
   "id": "a7695428",
   "metadata": {},
   "source": [
    "## Selection of Model : model selected -> SVM"
   ]
  },
  {
   "cell_type": "code",
   "execution_count": 94,
   "id": "dense-guyana",
   "metadata": {
    "ExecuteTime": {
     "end_time": "2021-08-01T02:44:16.662468Z",
     "start_time": "2021-08-01T02:44:16.580681Z"
    }
   },
   "outputs": [],
   "source": [
    "# Join training and test datasets\n",
    "X = pd.concat([X_train, \n",
    "               X_test])\n",
    "y = pd.concat([y_train, \n",
    "               y_test])"
   ]
  },
  {
   "cell_type": "code",
   "execution_count": 95,
   "id": "british-sydney",
   "metadata": {
    "ExecuteTime": {
     "end_time": "2021-08-01T02:44:29.080314Z",
     "start_time": "2021-08-01T02:44:29.044334Z"
    }
   },
   "outputs": [],
   "source": [
    "def model_fit(clf, x, y):\n",
    "    best_clf = clf\n",
    "    pipeline = Pipeline([('vectorize', vector), ('model', best_clf)])\n",
    "    return pipeline.fit(x, y)"
   ]
  },
  {
   "cell_type": "code",
   "execution_count": 96,
   "id": "stock-irish",
   "metadata": {
    "ExecuteTime": {
     "end_time": "2021-08-01T02:45:18.860042Z",
     "start_time": "2021-08-01T02:45:17.006039Z"
    }
   },
   "outputs": [],
   "source": [
    "# Create model\n",
    "clf = model_fit(SVC(), X, y)"
   ]
  },
  {
   "cell_type": "code",
   "execution_count": 97,
   "id": "united-syndication",
   "metadata": {
    "ExecuteTime": {
     "end_time": "2021-08-01T02:45:44.869993Z",
     "start_time": "2021-08-01T02:45:44.846627Z"
    }
   },
   "outputs": [
    {
     "data": {
      "text/plain": [
       "array(['arts', 'business', 'engineering'], dtype=object)"
      ]
     },
     "execution_count": 97,
     "metadata": {},
     "output_type": "execute_result"
    }
   ],
   "source": [
    "clf.classes_"
   ]
  },
  {
   "cell_type": "markdown",
   "id": "differential-substance",
   "metadata": {},
   "source": [
    "### The text sample has been taken from the dataset that was collected by crawling the CU Pureportal website. \n",
    "\n",
    "Author : Mohamad Nazri Abd Karim,\n",
    "Lecturer in : Lecturer in Finance\n",
    "School of Economics, Finance and Accounting\n",
    "\n",
    "So it should be classified as Business.\n",
    "\n",
    "Text : Stock Price and Volume Effects Associated with Changes in the Composition of the FTSE Bursa Malaysian KLCI"
   ]
  },
  {
   "cell_type": "code",
   "execution_count": 98,
   "id": "external-reminder",
   "metadata": {
    "ExecuteTime": {
     "end_time": "2021-08-01T02:47:36.005810Z",
     "start_time": "2021-08-01T02:47:35.960191Z"
    }
   },
   "outputs": [
    {
     "name": "stdout",
     "output_type": "stream",
     "text": [
      "Stock Price and Volume Effects Associated with Changes in the Composition of the FTSE Bursa Malaysian KLCI\n"
     ]
    },
    {
     "data": {
      "text/plain": [
       "array(['business'], dtype=object)"
      ]
     },
     "execution_count": 98,
     "metadata": {},
     "output_type": "execute_result"
    }
   ],
   "source": [
    "input_text = input()\n",
    "clf.predict([input_text])"
   ]
  },
  {
   "cell_type": "markdown",
   "id": "5b213512",
   "metadata": {},
   "source": [
    "https://pureportal.coventry.ac.uk/en/publications/loss-and-found-barthes-biography-and-ethical-deficit-in-alexander\n",
    "\n",
    "Loss and Found: Barthes, Biography and Ethical Deficit in Alexander Gardner’s ‘Portrait of Lewis Payne’.\n",
    "Damian Sutton\n",
    "\n",
    "School of Media and Performing Arts\n",
    "\n",
    "text: \n",
    "This article examines the history of Alexander Gardner’s 1865 portrait of Lincoln conspirator Lewis Payne (real name Lewis Powell) and its circulation from the time of its initial production up to 1979, when it was chosen by Roland Barthes as an illustration for his seminal 1980 book Camera Lucida. Barthes chose it as a kind of cipher for the tripartite motif – the studium, the punctum, and the noeme. This study explores the circumstances of the photograph’s production, its precarious existence as an unprinted cast-off, and its discovery in the Library of Congress collection of Civil War photographs. At the heart of the study is Barthes’ famous, but erroneous, description of the photograph, and the question of what we can relearn about this critical image in photographic history. Such a question is framed in terms of the ethical deficit formed by distance, time, and inattention between the viewers of historical images and the people such photographs depict."
   ]
  },
  {
   "cell_type": "code",
   "execution_count": 99,
   "id": "exposed-hayes",
   "metadata": {},
   "outputs": [
    {
     "name": "stdout",
     "output_type": "stream",
     "text": [
      "This article examines the history of Alexander Gardner’s 1865 portrait of Lincoln conspirator Lewis Payne (real name Lewis Powell) and its circulation from the time of its initial production up to 1979, when it was chosen by Roland Barthes as an illustration for his seminal 1980 book Camera Lucida. Barthes chose it as a kind of cipher for the tripartite motif – the studium, the punctum, and the noeme. This study explores the circumstances of the photograph’s production, its precarious existence as an unprinted cast-off, and its discovery in the Library of Congress collection of Civil War photographs. At the heart of the study is Barthes’ famous, but erroneous, description of the photograph, and the question of what we can relearn about this critical image in photographic history. Such a question is framed in terms of the ethical deficit formed by distance, time, and inattention between the viewers of historical images and the people such photographs depict.\n"
     ]
    },
    {
     "data": {
      "text/plain": [
       "array(['arts'], dtype=object)"
      ]
     },
     "execution_count": 99,
     "metadata": {},
     "output_type": "execute_result"
    }
   ],
   "source": [
    "input_text = input()\n",
    "clf.predict([input_text])"
   ]
  },
  {
   "cell_type": "markdown",
   "id": "ea37f184",
   "metadata": {},
   "source": [
    "https://pureportal.coventry.ac.uk/en/publications/assessing-the-use-of-gold-as-a-zero-beta-asset-in-empirical-asset\n",
    "\n",
    "Assessing the Use of Gold as a Zero-Beta Asset in Empirical Asset Pricing: Application to the US Equity Market\n",
    "Muhammad Abdullah, Hussein A. Abdou, Christopher Godfrey, Ahmed A. Elamer, Yousry Ahmed\n",
    "\n",
    "School of Economics, Finance and Accounting\n",
    "\n",
    "Text: This paper examines the use of the return on gold instead of treasury bills in empirical asset pricing models for the US equity market. It builds upon previous research on the safe-haven, hedging, and zero-beta characteristics of gold in developed markets and the close relationship between interest rates, stock, and gold returns. In particular, we extend this research by showing that using gold as a zero-beta asset helps to improve the time-series performance of asset pricing models when pricing US equities and industries between 1981 and 2015. The performance of gold zero-beta models is also compared with traditional empirical factor models using the 1-month Treasury bill rate as the risk-free rate. Our results indicate that using gold as a zero-beta asset leads to higher R-squared values, lower Sharpe ratios of alphas, and fewer significant pricing errors in the time-series analysis. Similarly, the pricing of small stock and industry portfolios is improved. In cross-section, we also find improved results, with fewer cross-sectional pricing errors and more economically meaningful pricing of risk factors. We also find that a zero-beta gold factor constructed to be orthogonal to the Carhart four factors is significant in cross-section and helps to improve factor model performance on momentum portfolios. Furthermore, the Fama–French three- and five-factor asset pricing models and the Carhart model are all improved by these means, particularly on test assets which have been poorly priced by the traditional versions. Our results have salient implications for policymakers, governments, central bank rate-setting decisions, and investors."
   ]
  },
  {
   "cell_type": "code",
   "execution_count": 100,
   "id": "4ad94834",
   "metadata": {},
   "outputs": [
    {
     "name": "stdout",
     "output_type": "stream",
     "text": [
      "This paper examines the use of the return on gold instead of treasury bills in empirical asset pricing models for the US equity market. It builds upon previous research on the safe-haven, hedging, and zero-beta characteristics of gold in developed markets and the close relationship between interest rates, stock, and gold returns. In particular, we extend this research by showing that using gold as a zero-beta asset helps to improve the time-series performance of asset pricing models when pricing US equities and industries between 1981 and 2015. The performance of gold zero-beta models is also compared with traditional empirical factor models using the 1-month Treasury bill rate as the risk-free rate. Our results indicate that using gold as a zero-beta asset leads to higher R-squared values, lower Sharpe ratios of alphas, and fewer significant pricing errors in the time-series analysis. Similarly, the pricing of small stock and industry portfolios is improved. In cross-section, we also find improved results, with fewer cross-sectional pricing errors and more economically meaningful pricing of risk factors. We also find that a zero-beta gold factor constructed to be orthogonal to the Carhart four factors is significant in cross-section and helps to improve factor model performance on momentum portfolios. Furthermore, the Fama–French three- and five-factor asset pricing models and the Carhart model are all improved by these means, particularly on test assets which have been poorly priced by the traditional versions. Our results have salient implications for policymakers, governments, central bank rate-setting decisions, and investors.\n"
     ]
    },
    {
     "data": {
      "text/plain": [
       "array(['business'], dtype=object)"
      ]
     },
     "execution_count": 100,
     "metadata": {},
     "output_type": "execute_result"
    }
   ],
   "source": [
    "input_text = input()\n",
    "clf.predict([input_text])"
   ]
  },
  {
   "cell_type": "markdown",
   "id": "635defac",
   "metadata": {},
   "source": [
    "https://pureportal.coventry.ac.uk/en/publications/efficacy-of-the-4f-feedback-model-a-game-based-assessment-in-univ\n",
    "\n",
    "Sara de Freitas, Victoria Uren, Kristian Kiili, Manuel Ninaus, Panagiotis Petridis, Petros Lameras, Ian Dunwell, Sylvester Arnab, Stephen Jarvis, Kam Star\n",
    "\n",
    "Research Centre in Postdigital CulturesSchool of Computing, Mathematics and Data Sciences\n",
    "Aston UniversityCollege of Policing Tampere University of TechnologyUniversity of GrazUniversity of SuffolkIndependent Researcher\n",
    "\n",
    "Text: Feedback is a critical aspect of optimised learning design, but there are few, if any, feedback models that map different types of feedback and how they may assist students to increase performance and enhance their learning experience. This research paper outlines a feedback model as an extension of the four-dimensional framework which includes a consideration of the type, the content, the format, and the frequency of feedback, as well as the agent which delivers it. This model is based upon an understanding of learning in the context of designing learning experiences and utilises a game-based model of learning to understand the importance of motivation and autonomy in learners to enhance and accelerate learning. The framework is developed and reflected upon by analysing two cases: a medical triage case in which the timing and frequency of feedback proved critical, and a business simulation which illuminated the need for a range of types of feedback and to be aware of the possibility of different agents (instructor peer and game) that can deliver feedback. The extended model may help game and learning designers alike to discern different types of feedback, both in games and more generally, in more explicit and nuanced ways."
   ]
  },
  {
   "cell_type": "code",
   "execution_count": 101,
   "id": "096add5f",
   "metadata": {},
   "outputs": [
    {
     "name": "stdout",
     "output_type": "stream",
     "text": [
      "Feedback is a critical aspect of optimised learning design, but there are few, if any, feedback models that map different types of feedback and how they may assist students to increase performance and enhance their learning experience. This research paper outlines a feedback model as an extension of the four-dimensional framework which includes a consideration of the type, the content, the format, and the frequency of feedback, as well as the agent which delivers it. This model is based upon an understanding of learning in the context of designing learning experiences and utilises a game-based model of learning to understand the importance of motivation and autonomy in learners to enhance and accelerate learning. The framework is developed and reflected upon by analysing two cases: a medical triage case in which the timing and frequency of feedback proved critical, and a business simulation which illuminated the need for a range of types of feedback and to be aware of the possibility of different agents (instructor peer and game) that can deliver feedback. The extended model may help game and learning designers alike to discern different types of feedback, both in games and more generally, in more explicit and nuanced ways.\n"
     ]
    },
    {
     "data": {
      "text/plain": [
       "array(['engineering'], dtype=object)"
      ]
     },
     "execution_count": 101,
     "metadata": {},
     "output_type": "execute_result"
    }
   ],
   "source": [
    "input_text = input()\n",
    "clf.predict([input_text])"
   ]
  },
  {
   "cell_type": "markdown",
   "id": "3e963409",
   "metadata": {},
   "source": [
    "https://www.nvidia.com/en-us/geforce/news/g-sync-ultra-low-motion-blur-2/\n",
    "\n",
    "ULMB 2 provides full refresh rate backlight strobing and significantly brighter images, all while maintaining pristine image quality. With the panel response time improvements from our partners at AUO, ULMB 2 gives competitive gamers the motion clarity needed to perform at peak levels by keeping them in the game when moments get chaotic."
   ]
  },
  {
   "cell_type": "code",
   "execution_count": 102,
   "id": "12dfcdbb",
   "metadata": {},
   "outputs": [
    {
     "name": "stdout",
     "output_type": "stream",
     "text": [
      "ULMB 2 provides full refresh rate backlight strobing and significantly brighter images, all while maintaining pristine image quality. With the panel response time improvements from our partners at AUO, ULMB 2 gives competitive gamers the motion clarity needed to perform at peak levels by keeping them in the game when moments get chaotic.\n"
     ]
    },
    {
     "data": {
      "text/plain": [
       "array(['engineering'], dtype=object)"
      ]
     },
     "execution_count": 102,
     "metadata": {},
     "output_type": "execute_result"
    }
   ],
   "source": [
    "input_text = input()\n",
    "clf.predict([input_text])"
   ]
  },
  {
   "cell_type": "code",
   "execution_count": null,
   "id": "processed-wilson",
   "metadata": {},
   "outputs": [],
   "source": []
  },
  {
   "cell_type": "code",
   "execution_count": null,
   "id": "6030e57f",
   "metadata": {},
   "outputs": [],
   "source": []
  }
 ],
 "metadata": {
  "kernelspec": {
   "display_name": "Python 3 (ipykernel)",
   "language": "python",
   "name": "python3"
  },
  "language_info": {
   "codemirror_mode": {
    "name": "ipython",
    "version": 3
   },
   "file_extension": ".py",
   "mimetype": "text/x-python",
   "name": "python",
   "nbconvert_exporter": "python",
   "pygments_lexer": "ipython3",
   "version": "3.9.16"
  },
  "varInspector": {
   "cols": {
    "lenName": 16,
    "lenType": 16,
    "lenVar": 40
   },
   "kernels_config": {
    "python": {
     "delete_cmd_postfix": "",
     "delete_cmd_prefix": "del ",
     "library": "var_list.py",
     "varRefreshCmd": "print(var_dic_list())"
    },
    "r": {
     "delete_cmd_postfix": ") ",
     "delete_cmd_prefix": "rm(",
     "library": "var_list.r",
     "varRefreshCmd": "cat(var_dic_list()) "
    }
   },
   "types_to_exclude": [
    "module",
    "function",
    "builtin_function_or_method",
    "instance",
    "_Feature"
   ],
   "window_display": false
  }
 },
 "nbformat": 4,
 "nbformat_minor": 5
}
