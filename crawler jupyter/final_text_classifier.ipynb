{
 "cells": [
  {
   "cell_type": "code",
   "execution_count": null,
   "id": "second-memphis",
   "metadata": {
    "ExecuteTime": {
     "end_time": "2021-08-01T01:59:41.760225Z",
     "start_time": "2021-08-01T01:59:41.515144Z"
    }
   },
   "outputs": [],
   "source": [
    "import os\n",
    "import string\n",
    "\n",
    "# Data Handling and Processing\n",
    "import pandas as pd\n",
    "import numpy as np\n",
    "import re\n",
    "from scipy import interp\n",
    "\n",
    "\n",
    "# Visualuzation\n",
    "import matplotlib.pyplot as plt\n",
    "%matplotlib inline\n",
    "#to render high res images\n",
    "%config InlineBackend.figure_format='retina'\n",
    "\n",
    "# NLP Packages\n",
    "from nltk.tokenize import word_tokenize\n",
    "from nltk.corpus import stopwords, wordnet\n",
    "from nltk.stem import WordNetLemmatizer\n",
    "from nltk import pos_tag\n",
    "import nltk\n",
    "from joblib import dump, load\n",
    "\n",
    "\n",
    "# ML Models\n",
    "from sklearn.ensemble import RandomForestClassifier\n",
    "from sklearn.svm import SVC\n",
    "from lightgbm import LGBMClassifier\n",
    "\n",
    "# Scikit Learn packages\n",
    "from sklearn.base import clone\n",
    "from sklearn.preprocessing import label_binarize, LabelEncoder\n",
    "from sklearn.feature_extraction.text import TfidfVectorizer, CountVectorizer\n",
    "from sklearn.model_selection import KFold, cross_validate, cross_val_score, train_test_split\n",
    "from sklearn.pipeline import Pipeline\n",
    "from sklearn import metrics\n",
    "from sklearn.metrics import roc_curve, auc\n"
   ]
  },
  {
   "cell_type": "markdown",
   "id": "indonesian-postage",
   "metadata": {},
   "source": [
    "# Load Datasets"
   ]
  },
  {
   "cell_type": "code",
   "execution_count": null,
   "id": "flush-consolidation",
   "metadata": {
    "ExecuteTime": {
     "end_time": "2021-08-01T01:45:56.821008Z",
     "start_time": "2021-08-01T01:45:56.763186Z"
    }
   },
   "outputs": [],
   "source": [
    "df = pd.read_csv('bbc-text.csv')\n",
    "print(df.shape)\n"
   ]
  },
  {
   "cell_type": "code",
   "execution_count": null,
   "id": "253b2811",
   "metadata": {},
   "outputs": [],
   "source": [
    "df = df[~df['category'].isin(['sport', 'politics'])].reset_index(drop=True)\n",
    "df"
   ]
  },
  {
   "cell_type": "code",
   "execution_count": null,
   "id": "0c0fe32e",
   "metadata": {},
   "outputs": [],
   "source": [
    "df['category'] = df['category'].replace('entertainment', 'arts')\n",
    "\n",
    "# Replace \"tech\" with \"engineering\"\n",
    "df['category'] = df['category'].replace('tech', 'engineering')\n",
    "df.head(15)"
   ]
  },
  {
   "cell_type": "code",
   "execution_count": null,
   "id": "6f312391",
   "metadata": {},
   "outputs": [],
   "source": [
    "df.head()"
   ]
  },
  {
   "cell_type": "code",
   "execution_count": null,
   "id": "179d8ca1",
   "metadata": {},
   "outputs": [],
   "source": [
    "df['text'][10]"
   ]
  },
  {
   "cell_type": "markdown",
   "id": "nonprofit-syndication",
   "metadata": {},
   "source": [
    "## Exploring the Dataset"
   ]
  },
  {
   "cell_type": "code",
   "execution_count": null,
   "id": "great-nightlife",
   "metadata": {
    "ExecuteTime": {
     "end_time": "2021-08-01T02:02:06.282040Z",
     "start_time": "2021-08-01T02:02:06.032043Z"
    }
   },
   "outputs": [],
   "source": [
    "df['category'].value_counts().plot(kind='bar')\n",
    "plt.title('Number of News articles per Category', size=15, pad=15);"
   ]
  },
  {
   "cell_type": "markdown",
   "id": "naughty-samba",
   "metadata": {},
   "source": [
    "text processing step"
   ]
  },
  {
   "cell_type": "code",
   "execution_count": null,
   "id": "major-springer",
   "metadata": {
    "ExecuteTime": {
     "end_time": "2021-08-01T02:05:41.825096Z",
     "start_time": "2021-08-01T02:05:41.787802Z"
    }
   },
   "outputs": [],
   "source": [
    "def text_preprocess(df):\n",
    "    # Remove special characters\n",
    "    df['p_text'] = df['text'].replace('\\n',' ')\n",
    "    df['p_text'] = df['p_text'].replace('\\r',' ')\n",
    "    \n",
    "    # Remove punctuation signs and lowercase all\n",
    "    df['p_text'] = df['text'].str.lower()\n",
    "    df['p_text'] = df['text'].str.translate(str.maketrans('', '', string.punctuation))\n",
    "    \n",
    "    \n",
    "    # Remove stop words\n",
    "    stop_words = stopwords.words(\"english\")\n",
    "    lemmatizer = WordNetLemmatizer()\n",
    "    \n",
    "    def fwpt(each):\n",
    "        tag = pos_tag([each])[0][1][0].upper()\n",
    "        hash_tag = {\"N\": wordnet.NOUN,\"R\": wordnet.ADV, \"V\": wordnet.VERB,\"J\": wordnet.ADJ}        \n",
    "        return hash_tag.get(tag, wordnet.NOUN)\n",
    "\n",
    "    \n",
    "    def lematize(text):\n",
    "        tokens = nltk.word_tokenize(text)\n",
    "        ax = \"\"\n",
    "        for each in tokens:\n",
    "            if each not in stop_words:\n",
    "                ax += lemmatizer.lemmatize(each, fwpt(each)) + \" \"\n",
    "        return ax\n",
    "    \n",
    "    df['p_text'] = df['p_text'].apply(lematize)"
   ]
  },
  {
   "cell_type": "code",
   "execution_count": null,
   "id": "subtle-floating",
   "metadata": {
    "ExecuteTime": {
     "end_time": "2021-08-01T02:08:25.551690Z",
     "start_time": "2021-08-01T02:07:24.370175Z"
    }
   },
   "outputs": [],
   "source": [
    "text_preprocess(df)"
   ]
  },
  {
   "cell_type": "markdown",
   "id": "rolled-chancellor",
   "metadata": {},
   "source": [
    "train test split"
   ]
  },
  {
   "cell_type": "code",
   "execution_count": null,
   "id": "miniature-crime",
   "metadata": {
    "ExecuteTime": {
     "end_time": "2021-08-01T02:19:53.776543Z",
     "start_time": "2021-08-01T02:19:53.695104Z"
    }
   },
   "outputs": [],
   "source": [
    "X_train, X_test, y_train, y_test = train_test_split(df['p_text'], \n",
    "                                                    df['category'], \n",
    "                                                    test_size=0.2, \n",
    "                                                    random_state=9)\n",
    "\n",
    "print(X_train.shape, X_test.shape, y_train.shape, y_test.shape)"
   ]
  },
  {
   "cell_type": "markdown",
   "id": "theoretical-payment",
   "metadata": {},
   "source": [
    "## Using tfidfvectorizer sklearn"
   ]
  },
  {
   "cell_type": "code",
   "execution_count": null,
   "id": "present-company",
   "metadata": {
    "ExecuteTime": {
     "end_time": "2021-08-01T02:24:58.293184Z",
     "start_time": "2021-08-01T02:24:58.262149Z"
    }
   },
   "outputs": [],
   "source": [
    "vector = TfidfVectorizer(stop_words='english', \n",
    "                         ngram_range = (1,2),\n",
    "                         min_df = 3,\n",
    "                         max_df = 1.,\n",
    "                         max_features = 10000)"
   ]
  },
  {
   "cell_type": "code",
   "execution_count": null,
   "id": "natural-louis",
   "metadata": {
    "ExecuteTime": {
     "end_time": "2021-08-01T02:30:47.223623Z",
     "start_time": "2021-08-01T02:30:47.193232Z"
    }
   },
   "outputs": [],
   "source": [
    "#creating fit model function\n",
    "\n",
    "def fit_model(model, model_name):\n",
    "    line = Pipeline([('vectorize', vector), (model_name, model)])\n",
    "    \n",
    "    output = cross_validate(line, \n",
    "                            X_train, \n",
    "                            y_train, \n",
    "                            cv = KFold(shuffle = True, \n",
    "                                       n_splits = 3,  \n",
    "                                       random_state = 9),\n",
    "                            scoring = ('accuracy', 'f1_weighted','precision_weighted','recall_weighted'),           \n",
    "                            return_train_score=True)\n",
    "    return output"
   ]
  },
  {
   "cell_type": "code",
   "execution_count": null,
   "id": "reasonable-inspector",
   "metadata": {
    "ExecuteTime": {
     "end_time": "2021-08-01T02:31:41.443274Z",
     "start_time": "2021-08-01T02:31:29.795635Z"
    }
   },
   "outputs": [],
   "source": [
    "rf_clf = fit_model(RandomForestClassifier(), 'Randf')\n",
    "svm_clf = fit_model(SVC(), 'SVM')\n",
    "lgbm_clf = fit_model(LGBMClassifier(), 'LGBM')\n",
    "\n",
    "rf = pd.DataFrame.from_dict(rf_clf)\n",
    "sv = pd.DataFrame.from_dict(svm_clf)\n",
    "lg = pd.DataFrame.from_dict(lgbm_clf)"
   ]
  },
  {
   "cell_type": "code",
   "execution_count": null,
   "id": "compressed-contractor",
   "metadata": {
    "ExecuteTime": {
     "end_time": "2021-08-01T02:32:19.672291Z",
     "start_time": "2021-08-01T02:32:19.642518Z"
    }
   },
   "outputs": [],
   "source": [
    "l1 = [rf, sv, lg]\n",
    "l2 =[\"Randf\", \"SVM\", \"LGBM\"]\n",
    "\n",
    "for each, tag in zip(l1, l2):\n",
    "    each['model'] = [tag, tag, tag]\n",
    "\n",
    "joined_output = pd.concat([rf, sv, lg])"
   ]
  },
  {
   "cell_type": "code",
   "execution_count": null,
   "id": "automatic-device",
   "metadata": {
    "ExecuteTime": {
     "end_time": "2021-08-01T02:33:12.025271Z",
     "start_time": "2021-08-01T02:33:12.016908Z"
    }
   },
   "outputs": [],
   "source": [
    "rf_clf"
   ]
  },
  {
   "cell_type": "code",
   "execution_count": null,
   "id": "worth-marijuana",
   "metadata": {
    "ExecuteTime": {
     "end_time": "2021-08-01T02:33:21.177196Z",
     "start_time": "2021-08-01T02:33:21.168888Z"
    }
   },
   "outputs": [],
   "source": [
    "svm_clf"
   ]
  },
  {
   "cell_type": "code",
   "execution_count": null,
   "id": "71a02684",
   "metadata": {},
   "outputs": [],
   "source": [
    "lgbm_clf"
   ]
  },
  {
   "cell_type": "code",
   "execution_count": null,
   "id": "elect-trail",
   "metadata": {
    "ExecuteTime": {
     "end_time": "2021-08-01T02:34:09.787789Z",
     "start_time": "2021-08-01T02:34:09.744308Z"
    }
   },
   "outputs": [],
   "source": [
    "relevant_measures = list(['test_accuracy','test_precision_weighted', 'test_recall_weighted', 'test_f1_weighted'])\n",
    "\n",
    "random_forest_metrics = joined_output.loc[joined_output.model == 'Randf'][relevant_measures]\n",
    "svm_metrics = joined_output.loc[joined_output.model == 'SVM'][relevant_measures]\n",
    "lgbm_metrics = joined_output.loc[joined_output.model == 'LGBM'][relevant_measures]"
   ]
  },
  {
   "cell_type": "markdown",
   "id": "entitled-pharmacy",
   "metadata": {},
   "source": [
    "#### Random Forest metrics"
   ]
  },
  {
   "cell_type": "code",
   "execution_count": null,
   "id": "proud-movement",
   "metadata": {
    "ExecuteTime": {
     "end_time": "2021-08-01T02:34:45.966238Z",
     "start_time": "2021-08-01T02:34:45.956440Z"
    }
   },
   "outputs": [],
   "source": [
    "random_forest_metrics"
   ]
  },
  {
   "cell_type": "markdown",
   "id": "quality-aspect",
   "metadata": {},
   "source": [
    "#### SVM Metrics"
   ]
  },
  {
   "cell_type": "code",
   "execution_count": null,
   "id": "lucky-chance",
   "metadata": {
    "ExecuteTime": {
     "end_time": "2021-08-01T02:35:22.423739Z",
     "start_time": "2021-08-01T02:35:22.412406Z"
    }
   },
   "outputs": [],
   "source": [
    "svm_metrics"
   ]
  },
  {
   "cell_type": "markdown",
   "id": "9962ef60",
   "metadata": {},
   "source": [
    "#### LGBM Metrics"
   ]
  },
  {
   "cell_type": "code",
   "execution_count": null,
   "id": "a59f4ac0",
   "metadata": {},
   "outputs": [],
   "source": [
    "lgbm_metrics"
   ]
  },
  {
   "cell_type": "markdown",
   "id": "greenhouse-minutes",
   "metadata": {},
   "source": [
    "#### Average metrics"
   ]
  },
  {
   "cell_type": "code",
   "execution_count": null,
   "id": "stainless-composite",
   "metadata": {
    "ExecuteTime": {
     "end_time": "2021-08-01T02:39:58.060999Z",
     "start_time": "2021-08-01T02:39:58.049490Z"
    }
   },
   "outputs": [],
   "source": [
    "metrics_ = [random_forest_metrics, svm_metrics, lgbm_metrics]\n",
    "names_ = ['Random Forest', 'SVM', 'LightGBM']\n",
    "\n",
    "for scores, namess in zip(metrics_, names_):\n",
    "    print(f'{namess} Mean Metrics:')\n",
    "    print(scores.mean())\n",
    "    print('  ')"
   ]
  },
  {
   "cell_type": "markdown",
   "id": "a7695428",
   "metadata": {},
   "source": [
    "## Selection of Model : model selected -> SVM"
   ]
  },
  {
   "cell_type": "code",
   "execution_count": null,
   "id": "dense-guyana",
   "metadata": {
    "ExecuteTime": {
     "end_time": "2021-08-01T02:44:16.662468Z",
     "start_time": "2021-08-01T02:44:16.580681Z"
    }
   },
   "outputs": [],
   "source": [
    "# Join training and test datasets\n",
    "X = pd.concat([X_train, \n",
    "               X_test])\n",
    "y = pd.concat([y_train, \n",
    "               y_test])"
   ]
  },
  {
   "cell_type": "code",
   "execution_count": null,
   "id": "british-sydney",
   "metadata": {
    "ExecuteTime": {
     "end_time": "2021-08-01T02:44:29.080314Z",
     "start_time": "2021-08-01T02:44:29.044334Z"
    }
   },
   "outputs": [],
   "source": [
    "def model_fit(clf, x, y):\n",
    "    best_clf = clf\n",
    "    pipeline = Pipeline([('vectorize', vector), ('model', best_clf)])\n",
    "    return pipeline.fit(x, y)"
   ]
  },
  {
   "cell_type": "code",
   "execution_count": 57,
   "id": "stock-irish",
   "metadata": {
    "ExecuteTime": {
     "end_time": "2021-08-01T02:45:18.860042Z",
     "start_time": "2021-08-01T02:45:17.006039Z"
    }
   },
   "outputs": [],
   "source": [
    "# Create model\n",
    "clf = model_fit(SVC(), X, y)"
   ]
  },
  {
   "cell_type": "code",
   "execution_count": null,
   "id": "united-syndication",
   "metadata": {
    "ExecuteTime": {
     "end_time": "2021-08-01T02:45:44.869993Z",
     "start_time": "2021-08-01T02:45:44.846627Z"
    }
   },
   "outputs": [],
   "source": [
    "clf.classes_"
   ]
  },
  {
   "cell_type": "markdown",
   "id": "differential-substance",
   "metadata": {},
   "source": [
    "### The text sample has been taken from the dataset that was collected by crawling the CU Pureportal website. \n",
    "\n",
    "Author : Mohamad Nazri Abd Karim,\n",
    "Lecturer in : Lecturer in Finance\n",
    "School of Economics, Finance and Accounting\n",
    "\n",
    "So it should be classified as Business.\n",
    "\n",
    "Text : Stock Price and Volume Effects Associated with Changes in the Composition of the FTSE Bursa Malaysian KLCI"
   ]
  },
  {
   "cell_type": "code",
   "execution_count": null,
   "id": "external-reminder",
   "metadata": {
    "ExecuteTime": {
     "end_time": "2021-08-01T02:47:36.005810Z",
     "start_time": "2021-08-01T02:47:35.960191Z"
    }
   },
   "outputs": [],
   "source": [
    "input_text = input()\n",
    "clf.predict([input_text])"
   ]
  },
  {
   "cell_type": "markdown",
   "id": "5b213512",
   "metadata": {},
   "source": [
    "https://pureportal.coventry.ac.uk/en/publications/loss-and-found-barthes-biography-and-ethical-deficit-in-alexander\n",
    "\n",
    "Loss and Found: Barthes, Biography and Ethical Deficit in Alexander Gardner’s ‘Portrait of Lewis Payne’.\n",
    "Damian Sutton\n",
    "\n",
    "School of Media and Performing Arts\n",
    "\n",
    "text: \n",
    "This article examines the history of Alexander Gardner’s 1865 portrait of Lincoln conspirator Lewis Payne (real name Lewis Powell) and its circulation from the time of its initial production up to 1979, when it was chosen by Roland Barthes as an illustration for his seminal 1980 book Camera Lucida. Barthes chose it as a kind of cipher for the tripartite motif – the studium, the punctum, and the noeme. This study explores the circumstances of the photograph’s production, its precarious existence as an unprinted cast-off, and its discovery in the Library of Congress collection of Civil War photographs. At the heart of the study is Barthes’ famous, but erroneous, description of the photograph, and the question of what we can relearn about this critical image in photographic history. Such a question is framed in terms of the ethical deficit formed by distance, time, and inattention between the viewers of historical images and the people such photographs depict."
   ]
  },
  {
   "cell_type": "code",
   "execution_count": null,
   "id": "exposed-hayes",
   "metadata": {},
   "outputs": [],
   "source": [
    "input_text = input()\n",
    "clf.predict([input_text])"
   ]
  },
  {
   "cell_type": "markdown",
   "id": "ea37f184",
   "metadata": {},
   "source": [
    "https://pureportal.coventry.ac.uk/en/publications/assessing-the-use-of-gold-as-a-zero-beta-asset-in-empirical-asset\n",
    "\n",
    "Assessing the Use of Gold as a Zero-Beta Asset in Empirical Asset Pricing: Application to the US Equity Market\n",
    "Muhammad Abdullah, Hussein A. Abdou, Christopher Godfrey, Ahmed A. Elamer, Yousry Ahmed\n",
    "\n",
    "School of Economics, Finance and Accounting\n",
    "\n",
    "Text: This paper examines the use of the return on gold instead of treasury bills in empirical asset pricing models for the US equity market. It builds upon previous research on the safe-haven, hedging, and zero-beta characteristics of gold in developed markets and the close relationship between interest rates, stock, and gold returns. In particular, we extend this research by showing that using gold as a zero-beta asset helps to improve the time-series performance of asset pricing models when pricing US equities and industries between 1981 and 2015. The performance of gold zero-beta models is also compared with traditional empirical factor models using the 1-month Treasury bill rate as the risk-free rate. Our results indicate that using gold as a zero-beta asset leads to higher R-squared values, lower Sharpe ratios of alphas, and fewer significant pricing errors in the time-series analysis. Similarly, the pricing of small stock and industry portfolios is improved. In cross-section, we also find improved results, with fewer cross-sectional pricing errors and more economically meaningful pricing of risk factors. We also find that a zero-beta gold factor constructed to be orthogonal to the Carhart four factors is significant in cross-section and helps to improve factor model performance on momentum portfolios. Furthermore, the Fama–French three- and five-factor asset pricing models and the Carhart model are all improved by these means, particularly on test assets which have been poorly priced by the traditional versions. Our results have salient implications for policymakers, governments, central bank rate-setting decisions, and investors."
   ]
  },
  {
   "cell_type": "code",
   "execution_count": null,
   "id": "4ad94834",
   "metadata": {},
   "outputs": [],
   "source": [
    "input_text = input()\n",
    "clf.predict([input_text])"
   ]
  },
  {
   "cell_type": "markdown",
   "id": "635defac",
   "metadata": {},
   "source": [
    "https://pureportal.coventry.ac.uk/en/publications/efficacy-of-the-4f-feedback-model-a-game-based-assessment-in-univ\n",
    "\n",
    "Sara de Freitas, Victoria Uren, Kristian Kiili, Manuel Ninaus, Panagiotis Petridis, Petros Lameras, Ian Dunwell, Sylvester Arnab, Stephen Jarvis, Kam Star\n",
    "\n",
    "Research Centre in Postdigital CulturesSchool of Computing, Mathematics and Data Sciences\n",
    "Aston UniversityCollege of Policing Tampere University of TechnologyUniversity of GrazUniversity of SuffolkIndependent Researcher\n",
    "\n",
    "Text: Feedback is a critical aspect of optimised learning design, but there are few, if any, feedback models that map different types of feedback and how they may assist students to increase performance and enhance their learning experience. This research paper outlines a feedback model as an extension of the four-dimensional framework which includes a consideration of the type, the content, the format, and the frequency of feedback, as well as the agent which delivers it. This model is based upon an understanding of learning in the context of designing learning experiences and utilises a game-based model of learning to understand the importance of motivation and autonomy in learners to enhance and accelerate learning. The framework is developed and reflected upon by analysing two cases: a medical triage case in which the timing and frequency of feedback proved critical, and a business simulation which illuminated the need for a range of types of feedback and to be aware of the possibility of different agents (instructor peer and game) that can deliver feedback. The extended model may help game and learning designers alike to discern different types of feedback, both in games and more generally, in more explicit and nuanced ways."
   ]
  },
  {
   "cell_type": "code",
   "execution_count": null,
   "id": "096add5f",
   "metadata": {},
   "outputs": [],
   "source": [
    "input_text = input()\n",
    "clf.predict([input_text])"
   ]
  },
  {
   "cell_type": "markdown",
   "id": "3e963409",
   "metadata": {},
   "source": [
    "https://www.nvidia.com/en-us/geforce/news/g-sync-ultra-low-motion-blur-2/\n",
    "\n",
    "ULMB 2 provides full refresh rate backlight strobing and significantly brighter images, all while maintaining pristine image quality. With the panel response time improvements from our partners at AUO, ULMB 2 gives competitive gamers the motion clarity needed to perform at peak levels by keeping them in the game when moments get chaotic."
   ]
  },
  {
   "cell_type": "code",
   "execution_count": null,
   "id": "12dfcdbb",
   "metadata": {},
   "outputs": [],
   "source": [
    "input_text = input()\n",
    "clf.predict([input_text])"
   ]
  },
  {
   "cell_type": "code",
   "execution_count": null,
   "id": "processed-wilson",
   "metadata": {},
   "outputs": [],
   "source": []
  },
  {
   "cell_type": "code",
   "execution_count": null,
   "id": "7f316eb6",
   "metadata": {},
   "outputs": [],
   "source": []
  }
 ],
 "metadata": {
  "kernelspec": {
   "display_name": "Python 3 (ipykernel)",
   "language": "python",
   "name": "python3"
  },
  "language_info": {
   "codemirror_mode": {
    "name": "ipython",
    "version": 3
   },
   "file_extension": ".py",
   "mimetype": "text/x-python",
   "name": "python",
   "nbconvert_exporter": "python",
   "pygments_lexer": "ipython3",
   "version": "3.9.16"
  },
  "varInspector": {
   "cols": {
    "lenName": 16,
    "lenType": 16,
    "lenVar": 40
   },
   "kernels_config": {
    "python": {
     "delete_cmd_postfix": "",
     "delete_cmd_prefix": "del ",
     "library": "var_list.py",
     "varRefreshCmd": "print(var_dic_list())"
    },
    "r": {
     "delete_cmd_postfix": ") ",
     "delete_cmd_prefix": "rm(",
     "library": "var_list.r",
     "varRefreshCmd": "cat(var_dic_list()) "
    }
   },
   "types_to_exclude": [
    "module",
    "function",
    "builtin_function_or_method",
    "instance",
    "_Feature"
   ],
   "window_display": false
  }
 },
 "nbformat": 4,
 "nbformat_minor": 5
}
