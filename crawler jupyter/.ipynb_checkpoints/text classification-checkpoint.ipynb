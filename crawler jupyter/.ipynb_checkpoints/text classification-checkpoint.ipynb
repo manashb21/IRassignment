{
 "cells": [
  {
   "cell_type": "code",
   "execution_count": 1,
   "id": "52763342",
   "metadata": {},
   "outputs": [],
   "source": [
    "import pandas as pd"
   ]
  },
  {
   "cell_type": "code",
   "execution_count": 2,
   "id": "b390e683",
   "metadata": {},
   "outputs": [
    {
     "data": {
      "text/html": [
       "<div>\n",
       "<style scoped>\n",
       "    .dataframe tbody tr th:only-of-type {\n",
       "        vertical-align: middle;\n",
       "    }\n",
       "\n",
       "    .dataframe tbody tr th {\n",
       "        vertical-align: top;\n",
       "    }\n",
       "\n",
       "    .dataframe thead th {\n",
       "        text-align: right;\n",
       "    }\n",
       "</style>\n",
       "<table border=\"1\" class=\"dataframe\">\n",
       "  <thead>\n",
       "    <tr style=\"text-align: right;\">\n",
       "      <th></th>\n",
       "      <th>name</th>\n",
       "      <th>job_title</th>\n",
       "      <th>organization</th>\n",
       "      <th>doc_link</th>\n",
       "      <th>doc_title</th>\n",
       "      <th>doc_abstract</th>\n",
       "    </tr>\n",
       "  </thead>\n",
       "  <tbody>\n",
       "    <tr>\n",
       "      <th>0</th>\n",
       "      <td>Mohamad Nazri Abd Karim</td>\n",
       "      <td>Lecturer in Finance</td>\n",
       "      <td>School of Economics, Finance and Accounting</td>\n",
       "      <td>https://pureportal.coventry.ac.uk/en/publicati...</td>\n",
       "      <td>Stock Price and Volume Effects Associated with...</td>\n",
       "      <td>We examine the stock price and volume effects ...</td>\n",
       "    </tr>\n",
       "    <tr>\n",
       "      <th>1</th>\n",
       "      <td>Muhammad Abdullah</td>\n",
       "      <td>Lecturer in Finance</td>\n",
       "      <td>School of Economics, Finance and Accounting</td>\n",
       "      <td>https://pureportal.coventry.ac.uk/en/publicati...</td>\n",
       "      <td>Assessing the Use of Gold as a Zero-Beta Asset...</td>\n",
       "      <td>This paper examines the use of the return on g...</td>\n",
       "    </tr>\n",
       "    <tr>\n",
       "      <th>2</th>\n",
       "      <td>Al-Noor Abdullah</td>\n",
       "      <td>Lecturer in Business Management</td>\n",
       "      <td>School of Strategy and Leadership</td>\n",
       "      <td>https://pureportal.coventry.ac.uk/en/publicati...</td>\n",
       "      <td>Social Impacts of a Mega-Dam Project as Percei...</td>\n",
       "      <td>The paper assesses social impacts of a mega-da...</td>\n",
       "    </tr>\n",
       "    <tr>\n",
       "      <th>3</th>\n",
       "      <td>Al-Noor Abdullah</td>\n",
       "      <td>Lecturer in Business Management</td>\n",
       "      <td>School of Strategy and Leadership</td>\n",
       "      <td>https://pureportal.coventry.ac.uk/en/publicati...</td>\n",
       "      <td>Economic Contributions of Mega-Dam Infrastruct...</td>\n",
       "      <td>Investigations on the socioeconomic impacts of...</td>\n",
       "    </tr>\n",
       "    <tr>\n",
       "      <th>4</th>\n",
       "      <td>Mohamad Nazri Abd Karim</td>\n",
       "      <td>Lecturer in Finance</td>\n",
       "      <td>School of Economics, Finance and Accounting</td>\n",
       "      <td>https://pureportal.coventry.ac.uk/en/publicati...</td>\n",
       "      <td>Personalisation of power, neoliberalism and th...</td>\n",
       "      <td>NaN</td>\n",
       "    </tr>\n",
       "  </tbody>\n",
       "</table>\n",
       "</div>"
      ],
      "text/plain": [
       "                      name                        job_title  \\\n",
       "0  Mohamad Nazri Abd Karim              Lecturer in Finance   \n",
       "1        Muhammad Abdullah              Lecturer in Finance   \n",
       "2         Al-Noor Abdullah  Lecturer in Business Management   \n",
       "3         Al-Noor Abdullah  Lecturer in Business Management   \n",
       "4  Mohamad Nazri Abd Karim              Lecturer in Finance   \n",
       "\n",
       "                                  organization  \\\n",
       "0  School of Economics, Finance and Accounting   \n",
       "1  School of Economics, Finance and Accounting   \n",
       "2            School of Strategy and Leadership   \n",
       "3            School of Strategy and Leadership   \n",
       "4  School of Economics, Finance and Accounting   \n",
       "\n",
       "                                            doc_link  \\\n",
       "0  https://pureportal.coventry.ac.uk/en/publicati...   \n",
       "1  https://pureportal.coventry.ac.uk/en/publicati...   \n",
       "2  https://pureportal.coventry.ac.uk/en/publicati...   \n",
       "3  https://pureportal.coventry.ac.uk/en/publicati...   \n",
       "4  https://pureportal.coventry.ac.uk/en/publicati...   \n",
       "\n",
       "                                           doc_title  \\\n",
       "0  Stock Price and Volume Effects Associated with...   \n",
       "1  Assessing the Use of Gold as a Zero-Beta Asset...   \n",
       "2  Social Impacts of a Mega-Dam Project as Percei...   \n",
       "3  Economic Contributions of Mega-Dam Infrastruct...   \n",
       "4  Personalisation of power, neoliberalism and th...   \n",
       "\n",
       "                                        doc_abstract  \n",
       "0  We examine the stock price and volume effects ...  \n",
       "1  This paper examines the use of the return on g...  \n",
       "2  The paper assesses social impacts of a mega-da...  \n",
       "3  Investigations on the socioeconomic impacts of...  \n",
       "4                                                NaN  "
      ]
     },
     "execution_count": 2,
     "metadata": {},
     "output_type": "execute_result"
    }
   ],
   "source": [
    "df = pd.read_csv(\"publications_data.csv\")\n",
    "df.head()"
   ]
  },
  {
   "cell_type": "code",
   "execution_count": 23,
   "id": "7e261953",
   "metadata": {},
   "outputs": [],
   "source": [
    "column_values = df['organization'].unique().tolist()"
   ]
  },
  {
   "cell_type": "code",
   "execution_count": 25,
   "id": "753d3b4a",
   "metadata": {},
   "outputs": [
    {
     "data": {
      "text/plain": [
       "41"
      ]
     },
     "execution_count": 25,
     "metadata": {},
     "output_type": "execute_result"
    }
   ],
   "source": [
    "len(column_values)"
   ]
  },
  {
   "cell_type": "code",
   "execution_count": null,
   "id": "8a855799",
   "metadata": {},
   "outputs": [],
   "source": [
    "engineering_terms = ['engineering', 'manufacturing', 'energy', 'construction', 'agroecology', \n",
    "                    'computing', 'science', 'sciences', 'computer', 'mechanical', 'civil', 'sport', 'mathematics']\n",
    "\n",
    "business_terms = ['economics', 'economy', 'finance', 'accounting', 'strategy', 'financial', 'corporate', 'business', \n",
    "                 'law', 'marketing', 'management', 'entrepreneur', 'entrepreneurship']\n",
    "\n",
    "art_terms = ['art', 'arts', 'design', 'humanities', 'dance', 'music', 'media', 'performing', 'culture', 'cultures',\n",
    "            'community', 'communities']"
   ]
  },
  {
   "cell_type": "code",
   "execution_count": null,
   "id": "326e005a",
   "metadata": {},
   "outputs": [],
   "source": [
    "Engineering:\n",
    "\n",
    "School of Future Transport Engineering\n",
    "Centre for Manufacturing and Materials\n",
    "School of Energy, Construction and Environment\n",
    "Centre for Agroecology, Water and Resilience\n",
    "Centre for Physical Activity, Sport and Exercise Sciences\n",
    "Faculty of Engineering, Environment & Computing\n",
    "School of Mechanical Engineering\n",
    "\n",
    "Business:\n",
    "\n",
    "School of Economics, Finance and Accounting\n",
    "School of Strategy and Leadership\n",
    "Centre Global Learning\n",
    "Research Centre for Financial & Corporate Integrity\n",
    "Centre for Trust, Peace and Social Relations\n",
    "Research Centre for Business in Society\n",
    "School of Marketing and Management\n",
    "School of Law\n",
    "International Centre for Transformational Entrepreneurship\n",
    "Mathematics Support Centre\n",
    "Vice-Chancellor's Office\n",
    "Centre for Academic Writing\n",
    "Faculty of Business & Law\n",
    "\n",
    "Art:\n",
    "\n",
    "School of Art and Design\n",
    "School of Humanities\n",
    "Research Centre for Dance Research (CDaRE)\n",
    "School of Media and Performing Arts\n",
    "Research Centre for Arts, Memory and Communities\n",
    "Research Centre in Postdigital Cultures\n",
    "Faculty of Arts & Humanities"
   ]
  }
 ],
 "metadata": {
  "kernelspec": {
   "display_name": "Python 3 (ipykernel)",
   "language": "python",
   "name": "python3"
  },
  "language_info": {
   "codemirror_mode": {
    "name": "ipython",
    "version": 3
   },
   "file_extension": ".py",
   "mimetype": "text/x-python",
   "name": "python",
   "nbconvert_exporter": "python",
   "pygments_lexer": "ipython3",
   "version": "3.9.16"
  }
 },
 "nbformat": 4,
 "nbformat_minor": 5
}
